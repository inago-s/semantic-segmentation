{
 "metadata": {
  "language_info": {
   "codemirror_mode": {
    "name": "ipython",
    "version": 3
   },
   "file_extension": ".py",
   "mimetype": "text/x-python",
   "name": "python",
   "nbconvert_exporter": "python",
   "pygments_lexer": "ipython3",
   "version": "3.6.9"
  },
  "orig_nbformat": 4,
  "kernelspec": {
   "name": "python3",
   "display_name": "Python 3.6.9 64-bit"
  },
  "interpreter": {
   "hash": "31f2aee4e71d21fbe5cf8b01ff0e069b9275f58929596ceb00d14d90e3e16cd6"
  }
 },
 "nbformat": 4,
 "nbformat_minor": 2,
 "cells": [
  {
   "cell_type": "code",
   "execution_count": 1,
   "metadata": {},
   "outputs": [],
   "source": [
    "from util.fcn8s import fcn8s\n",
    "from util.generator import Generator\n",
    "from util.layer import Conv_Block\n",
    "from tensorflow.keras import optimizers\n",
    "import tensorflow as tf\n"
   ]
  },
  {
   "cell_type": "code",
   "execution_count": 2,
   "metadata": {},
   "outputs": [],
   "source": [
    "fcn = fcn8s(10)\n",
    "model=fcn.create_model()\n",
    "\n",
    "adam=optimizers.Adam(learning_rate=1e-4)\n",
    "model.compile(optimizer=adam, loss='categorical_crossentropy',\n",
    "              metrics=['accuracy'])\n",
    "\n",
    "with open('./train.txt') as f:\n",
    "    image_path_list = f.read().split('\\n')\n",
    "    image_path_list.remove('')\n",
    "\n",
    "with open('./class.txt') as f:\n",
    "    class_path_list = f.read().split('\\n')\n",
    "    class_path_list.remove('')"
   ]
  },
  {
   "cell_type": "code",
   "execution_count": 3,
   "metadata": {},
   "outputs": [],
   "source": [
    "from tensorflow.keras.callbacks import ModelCheckpoint\n",
    "import os\n",
    "\n",
    "Model_save='./model'\n",
    "\n",
    "checkpoint = ModelCheckpoint(\n",
    "    filepath=os.path.join(Model_save,\"FCN_model-{epoch:02d}.h5\"),\n",
    "    monitor='val_loss',\n",
    "    save_best_only=True,\n",
    "    save_weights_only=False,\n",
    "    mode='min'\n",
    ")"
   ]
  },
  {
   "cell_type": "code",
   "execution_count": 4,
   "metadata": {},
   "outputs": [],
   "source": [
    "val_count = int(len(image_path_list)*0.1)\n",
    "\n",
    "train_gen = Generator(\n",
    "    image_path_list[val_count:], class_path_list[val_count:], 256, 256, 10, 2)\n",
    "\n",
    "val_gen = Generator(\n",
    "    image_path_list[:val_count], class_path_list[:val_count], 256, 256, 10, 2)"
   ]
  },
  {
   "cell_type": "code",
   "execution_count": 5,
   "metadata": {},
   "outputs": [
    {
     "output_type": "stream",
     "name": "stdout",
     "text": [
      "  2/553 [..............................] - ETA: 2:58 - loss: 2.3072 - accuracy: 0.1000WARNING:tensorflow:Callbacks method `on_train_batch_end` is slow compared to the batch time (batch time: 0.2528s vs `on_train_batch_end` time: 0.3903s). Check your callbacks.\n",
      "553/553 [==============================] - 370s 670ms/step - loss: 1.8418 - accuracy: 0.3603 - val_loss: 1.5199 - val_accuracy: 0.4807\n"
     ]
    },
    {
     "output_type": "execute_result",
     "data": {
      "text/plain": [
       "<tensorflow.python.keras.callbacks.History at 0x7f78400b8160>"
      ]
     },
     "metadata": {},
     "execution_count": 5
    }
   ],
   "source": [
    "model.fit(train_gen, steps_per_epoch=train_gen.batches_per_epoch, validation_data=val_gen,\n",
    "                    validation_steps=val_gen.batches_per_epoch, epochs=1, shuffle=True,callbacks=[checkpoint])"
   ]
  },
  {
   "cell_type": "code",
   "execution_count": 6,
   "metadata": {},
   "outputs": [],
   "source": [
    "model.save('model/FCN_model-50.h5')"
   ]
  },
  {
   "cell_type": "code",
   "execution_count": null,
   "metadata": {},
   "outputs": [],
   "source": []
  }
 ]
}